{
 "cells": [
  {
   "cell_type": "code",
   "execution_count": 3,
   "id": "1f601879",
   "metadata": {},
   "outputs": [],
   "source": [
    "import pandas as pd\n",
    "import sqlite3"
   ]
  },
  {
   "cell_type": "code",
   "execution_count": 5,
   "id": "dc218aff",
   "metadata": {},
   "outputs": [
    {
     "name": "stdout",
     "output_type": "stream",
     "text": [
      "✅ Data loaded into SQLite successfully!\n"
     ]
    }
   ],
   "source": [
    "# Step 1: Load CSV into Pandas\n",
    "df = pd.read_csv(\"ecommerce_orders.csv\")\n",
    "\n",
    "# # Step 2: Create a SQLite connection (creates a new db file)\n",
    "conn = sqlite3.connect(\"ecommerce.db\")\n",
    "\n",
    "# Step 3: Write DataFrame to SQLite table\n",
    "df.to_sql(\"orders\", conn, if_exists=\"replace\", index=False)\n",
    "\n",
    "print(\"✅ Data loaded into SQLite successfully!\")"
   ]
  },
  {
   "cell_type": "code",
   "execution_count": 3,
   "id": "bf8a6144",
   "metadata": {},
   "outputs": [
    {
     "name": "stdout",
     "output_type": "stream",
     "text": [
      "   order_id  user_id  product_id     category   price  qty  total_price  \\\n",
      "0    100000      861         201       Sports   93.11    2       186.22   \n",
      "1    100001     1295         366         Home  101.09    1       101.09   \n",
      "2    100002     1131         115  Electronics  253.61    1       253.61   \n",
      "3    100003     1096         159     Clothing   11.73    2        23.46   \n",
      "4    100004     1639          42  Electronics  743.98    2      1487.96   \n",
      "5    100005     2170         247         Toys   19.18    1        19.18   \n",
      "6    100006      467          68      Grocery    7.60    1         7.60   \n",
      "7    100007     1239         445        Books   31.17    1        31.17   \n",
      "8    100008      331         445       Beauty   64.26    2       128.52   \n",
      "9    100009     1483         326         Home  382.34    1       382.34   \n",
      "\n",
      "            order_date         country customer_segment  \n",
      "0  2024-10-30 16:07:37          Brazil        Mid-Value  \n",
      "1  2022-04-17 09:31:40          Canada        Low-Value  \n",
      "2  2022-11-08 12:38:20           India        Mid-Value  \n",
      "3  2022-05-18 17:24:55           India        Low-Value  \n",
      "4  2024-01-25 05:51:54          Canada       High-Value  \n",
      "5  2024-11-18 23:48:19           China        Low-Value  \n",
      "6  2024-11-30 01:59:35  United Kingdom        Low-Value  \n",
      "7  2023-12-10 20:36:37   United States        Low-Value  \n",
      "8  2024-11-18 20:30:48           Spain        Low-Value  \n",
      "9  2023-09-20 08:09:17          Mexico        Mid-Value  \n"
     ]
    }
   ],
   "source": [
    "query = \"SELECT * FROM orders LIMIT 10\"\n",
    "result = pd.read_sql_query(query, conn)\n",
    "print(result)"
   ]
  },
  {
   "cell_type": "code",
   "execution_count": null,
   "id": "17bf76d8",
   "metadata": {},
   "outputs": [
    {
     "name": "stdout",
     "output_type": "stream",
     "text": [
      "   total_number_orders\n",
      "0                10000\n"
     ]
    }
   ],
   "source": [
    "#Total number of orders\n",
    "query = \"SELECT count(order_id) AS total_number_orders \" \\\n",
    "        \"FROM orders\"\n",
    "result = pd.read_sql_query(query, conn)\n",
    "print(result)"
   ]
  },
  {
   "cell_type": "code",
   "execution_count": 7,
   "id": "1a066588",
   "metadata": {},
   "outputs": [
    {
     "name": "stdout",
     "output_type": "stream",
     "text": [
      "      revenue\n",
      "0  1595831.17\n"
     ]
    }
   ],
   "source": [
    "#Total revenue\n",
    "query = \"SELECT sum(total_price) as revenue FROM orders\"\n",
    "result = pd.read_sql_query(query,conn)\n",
    "print(result)"
   ]
  },
  {
   "cell_type": "code",
   "execution_count": null,
   "id": "846faeec",
   "metadata": {},
   "outputs": [
    {
     "name": "stdout",
     "output_type": "stream",
     "text": [
      "   product_id     category  order_count\n",
      "0          13      Grocery           34\n",
      "1         271      Grocery           33\n",
      "2         475  Electronics           32\n",
      "3         464  Electronics           31\n",
      "4         333     Clothing           31\n"
     ]
    }
   ],
   "source": [
    "#Top 5 products by order count\n",
    "query = \"\"\"\n",
    "        SELECT product_id,category, count(order_id) AS order_count\n",
    "        FROM orders\n",
    "        GROUP BY product_id\n",
    "        ORDER BY order_count desc limit 5\n",
    "        \"\"\"\n",
    "result = pd.read_sql_query(query,conn)\n",
    "print(result)"
   ]
  },
  {
   "cell_type": "code",
   "execution_count": 7,
   "id": "2c3b9b95",
   "metadata": {},
   "outputs": [
    {
     "name": "stdout",
     "output_type": "stream",
     "text": [
      "   order_month  monthly_revenue\n",
      "0      2022-01         40214.24\n",
      "1      2022-02         28103.94\n",
      "2      2022-03         38688.52\n",
      "3      2022-04         37107.41\n",
      "4      2022-05         34712.34\n",
      "5      2022-06         41572.03\n",
      "6      2022-07         34269.63\n",
      "7      2022-08         39541.93\n",
      "8      2022-09         32471.64\n",
      "9      2022-10         30443.09\n",
      "10     2022-11         36884.14\n",
      "11     2022-12         33864.54\n",
      "12     2023-01         46621.65\n",
      "13     2023-02         40678.38\n",
      "14     2023-03         38630.41\n",
      "15     2023-04         41618.00\n",
      "16     2023-05         42726.98\n",
      "17     2023-06         33951.28\n",
      "18     2023-07         31822.55\n",
      "19     2023-08         43276.85\n",
      "20     2023-09         37564.02\n",
      "21     2023-10         29545.44\n",
      "22     2023-11         42422.99\n",
      "23     2023-12         39393.26\n",
      "24     2024-01         45995.45\n",
      "25     2024-02         39015.99\n",
      "26     2024-03         35843.36\n",
      "27     2024-04         30025.00\n",
      "28     2024-05         34865.96\n",
      "29     2024-06         28878.44\n",
      "30     2024-07         42235.40\n",
      "31     2024-08         32629.72\n",
      "32     2024-09         35277.28\n",
      "33     2024-10         35534.77\n",
      "34     2024-11         38256.72\n",
      "35     2024-12         34529.31\n",
      "36     2025-01         39137.57\n",
      "37     2025-02         28393.53\n",
      "38     2025-03         39794.07\n",
      "39     2025-04         34433.17\n",
      "40     2025-05         41151.58\n",
      "41     2025-06         34910.52\n",
      "42     2025-07         34811.58\n",
      "43     2025-08         13986.49\n"
     ]
    }
   ],
   "source": [
    "#Revenue trend over time (e.g., by month)\n",
    "query = \"\"\"\n",
    "        SELECT strftime('%Y-%m',order_date) AS order_month,\n",
    "        sum(total_price) as monthly_revenue\n",
    "        FROM orders\n",
    "        GROUP BY order_month\n",
    "        ORDER BY order_month\n",
    "        \"\"\"\n",
    "result = pd.read_sql_query(query,conn)\n",
    "print(result)"
   ]
  },
  {
   "cell_type": "code",
   "execution_count": 16,
   "id": "8296ec5f",
   "metadata": {},
   "outputs": [
    {
     "name": "stdout",
     "output_type": "stream",
     "text": [
      "   avg_order_value\n",
      "0       159.583117\n"
     ]
    }
   ],
   "source": [
    "#Average order value\n",
    "query = \"\"\"\n",
    "        SELECT (SUM(total_price) * 1.0 / COUNT(order_id)) AS avg_order_value\n",
    "        FROM orders;\n",
    "        \"\"\"\n",
    "result = pd.read_sql_query(query,conn)\n",
    "print(result)"
   ]
  },
  {
   "cell_type": "code",
   "execution_count": 10,
   "id": "a1742cd8",
   "metadata": {},
   "outputs": [
    {
     "data": {
      "image/png": "[encoded data removed]",
      "text/plain": [
       "<Figure size 800x400 with 1 Axes>"
      ]
     },
     "metadata": {},
     "output_type": "display_data"
    }
   ],
   "source": [
    "import matplotlib.pyplot as plt\n",
    "\n",
    "monthly = pd.read_sql_query(query, conn)\n",
    "\n",
    "monthly.plot(x='order_month', y='monthly_revenue', kind='line', figsize=(8,4), marker='o')\n",
    "plt.title(\"Monthly Revenue Trend\")\n",
    "plt.xticks(rotation=45)\n",
    "plt.tight_layout()\n",
    "plt.savefig(\"revenue_trend.png\")\n",
    "plt.show()\n"
   ]
  },
  {
   "cell_type": "code",
   "execution_count": null,
   "id": "b7fb3a0a",
   "metadata": {},
   "outputs": [],
   "source": []
  }
 ],
 "metadata": {
  "kernelspec": {
   "display_name": "env (3.11.2)",
   "language": "python",
   "name": "python3"
  },
  "language_info": {
   "codemirror_mode": {
    "name": "ipython",
    "version": 3
   },
   "file_extension": ".py",
   "mimetype": "text/x-python",
   "name": "python",
   "nbconvert_exporter": "python",
   "pygments_lexer": "ipython3",
   "version": "3.11.2"
  }
 },
 "nbformat": 4,
 "nbformat_minor": 5
}
